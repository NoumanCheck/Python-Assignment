{
 "cells": [
  {
   "cell_type": "markdown",
   "metadata": {},
   "source": []
  },
  {
   "cell_type": "code",
   "execution_count": 1,
   "metadata": {},
   "outputs": [
    {
     "name": "stdout",
     "output_type": "stream",
     "text": [
      "{'first_name': 'Nouman', 'last_name': 'Suleman', 'age': 23, 'city': 'Khi', 'Qualification': 'BS in Computer Science'}\n",
      "{'first_name': 'Nouman', 'last_name': 'Suleman', 'age': 23, 'city': 'Khi'}\n"
     ]
    }
   ],
   "source": [
    "person = {\n",
    "    'first_name':'Nouman',\n",
    "    'last_name': 'Suleman',\n",
    "    'age': 23,\n",
    "    'city': 'Khi',\n",
    "    }\n",
    "person['Qualification']='BS in Computer Science'  \n",
    "print (person)\n",
    "del person['Qualification']\n",
    "print (person)"
   ]
  },
  {
   "cell_type": "markdown",
   "metadata": {},
   "source": []
  },
  {
   "cell_type": "code",
   "execution_count": 3,
   "metadata": {},
   "outputs": [
    {
     "name": "stdout",
     "output_type": "stream",
     "text": [
      "\n",
      "Dehli is in India.\n",
      "  It has a population of about 14910352.\n",
      "  The Fifth ranked in the world.\n",
      "\n",
      "Janda is in Somalia.\n",
      "  It has a population of about 82003882.\n",
      "  The 28Th  ranked in the world.\n",
      "\n",
      "Bali is in Indonesia.\n",
      "  It has a population of about 17310.\n",
      "  The 29Th ranked in the world.\n"
     ]
    }
   ],
   "source": [
    "cities = {\n",
    "    'Dehli': {\n",
    "        'country': 'India',\n",
    "        'population':14910352,\n",
    "        'ranked': 'fifth',\n",
    "        },\n",
    "    'janda': {\n",
    "        'country': 'Somalia',\n",
    "        'population': 82003882 ,\n",
    "        'ranked': '28th ',\n",
    "        },\n",
    "    'Bali': {\n",
    "        'country': 'Indonesia',\n",
    "        'population': 17310 ,\n",
    "        'ranked': '29th',\n",
    "        }\n",
    "    }\n",
    "\n",
    "for city, city_info in cities.items():\n",
    "    country = city_info['country'].title()\n",
    "    population = city_info['population']\n",
    "    ranked = city_info['ranked'].title()\n",
    "\n",
    "    print(\"\\n\" + city.title() + \" is in \" + country + \".\")\n",
    "    print(\"  It has a population of about \" + str(population) + \".\")\n",
    "    print(\"  The \" + ranked + \" ranked in the world.\")"
   ]
  },
  {
   "cell_type": "markdown",
   "metadata": {},
   "source": []
  },
  {
   "cell_type": "code",
   "execution_count": 4,
   "metadata": {},
   "outputs": [
    {
     "name": "stdout",
     "output_type": "stream",
     "text": [
      "First tell me your age to buy a ticket \n",
      "How old are you:20\n",
      "  Your ticket cost is $15.\n"
     ]
    }
   ],
   "source": [
    "age = input(\"First tell me your age to buy a ticket \\nHow old are you:\")\n",
    "i=0\n",
    "while i<=1:\n",
    "    age = int(age)\n",
    "    if age < 3:\n",
    "        print(\"  You in get for free!\")\n",
    "        break\n",
    "    elif age < 13:\n",
    "        print(\"  Your ticket cost is $10.\")\n",
    "        break\n",
    "    else:\n",
    "        print(\"  Your ticket cost is $15.\")\n",
    "        break"
   ]
  },
  {
   "cell_type": "markdown",
   "metadata": {},
   "source": []
  },
  {
   "cell_type": "code",
   "execution_count": 4,
   "metadata": {},
   "outputs": [
    {
     "name": "stdout",
     "output_type": "stream",
     "text": [
      "Thinking, Fast and Slow is one of my favorite books.\n"
     ]
    }
   ],
   "source": [
    "def favorite_book(title):\n",
    "    print(title + ' is one of my favorite books.')\n",
    "\n",
    "#Calling Function\n",
    "favorite_book('Thinking, Fast and Slow')"
   ]
  },
  {
   "cell_type": "markdown",
   "metadata": {},
   "source": []
  },
  {
   "cell_type": "code",
   "execution_count": 7,
   "metadata": {},
   "outputs": [
    {
     "name": "stdout",
     "output_type": "stream",
     "text": [
      "              HINT              \n",
      "Try a number between 1 and 30\n",
      "Enter your guess: 2\n",
      "Your guess is wrong !!!\n",
      "               Better Luck Next Time              \n",
      "Enter your guess: 3\n",
      "Your guess is wrong !!!\n",
      "               Better Luck Next Time              \n",
      "Enter your guess: 4\n",
      "Your guess is wrong !!!\n",
      "               Better Luck Next Time              \n"
     ]
    }
   ],
   "source": [
    "import random\n",
    "random=random.randint(1,30)\n",
    "print(\"              HINT              \")\n",
    "if random>=1 and random <=30:\n",
    "    print(\"Try a number between 1 and 30\")\n",
    "for i in range(0,3):\n",
    "    user = int(input(\"Enter your guess: \"))\n",
    "    if user < 1 or user > 30:\n",
    "        print(\"Choose a number between 1 and 30\")\n",
    "    else:\n",
    "        if user == random:\n",
    "            print(\"Your guess is right !!!\")\n",
    "            break\n",
    "        else:\n",
    "            print(\"Your guess is wrong !!!\")\n",
    "            print(\"               Better Luck Next Time              \")"
   ]
  },
  {
   "cell_type": "code",
   "execution_count": null,
   "metadata": {},
   "outputs": [],
   "source": []
  }
 ],
 "metadata": {
  "kernelspec": {
   "display_name": "Python 3",
   "language": "python",
   "name": "python3"
  },
  "language_info": {
   "codemirror_mode": {
    "name": "ipython",
    "version": 3
   },
   "file_extension": ".py",
   "mimetype": "text/x-python",
   "name": "python",
   "nbconvert_exporter": "python",
   "pygments_lexer": "ipython3",
   "version": "3.7.4"
  }
 },
 "nbformat": 4,
 "nbformat_minor": 2
}
