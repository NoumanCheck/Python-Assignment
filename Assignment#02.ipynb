{
 "cells": [
  {
   "cell_type": "code",
   "execution_count": 1,
   "metadata": {},
   "outputs": [],
   "source": [
    "#Assignment#02"
   ]
  },
  {
   "cell_type": "code",
   "execution_count": 14,
   "metadata": {},
   "outputs": [
    {
     "name": "stdout",
     "output_type": "stream",
     "text": [
      "Enter your marks to calculate your grades\n",
      "Enter your ISE marks 75\n",
      "Enter your ICS marks 85\n",
      "Enter your Islamiat marks 85\n",
      "Enter your Calculus marks 75\n",
      "Enter your OOP marks 85\n",
      "Enter your English marks 75\n",
      "480\n",
      "80.0\n",
      "Congratulation you got A\n"
     ]
    }
   ],
   "source": [
    "#Question#01 Mark Sheet\n",
    "print(\"Enter your marks to calculate your grades\");\n",
    "total = 600;\n",
    "ise = int(input(\"Enter your ISE marks \"))\n",
    "ics = int(input(\"Enter your ICS marks \"))\n",
    "isl = int(input(\"Enter your Islamiat marks \"))\n",
    "cal = int(input(\"Enter your Calculus marks \"))\n",
    "oop = int(input(\"Enter your OOP marks \"))\n",
    "eng = int(input(\"Enter your English marks \"))\n",
    "obt = ise + ics + isl + cal + oop + eng;\n",
    "print(obt)\n",
    "per = (obt/total)*100\n",
    "print(per)\n",
    "if(per <= 100 and per >= 85):\n",
    "    print(\"Congratulation you got A+\")\n",
    "elif(per < 85 and per >= 75 ):\n",
    "    print(\"Congratulation you got A\")\n",
    "elif(per < 75 and per >= 65 ):\n",
    "    print(\"Congratulation you got B\")\n",
    "elif(per < 65 and per >= 55 ):\n",
    "    print(\"Congratulation you got C\")\n",
    "elif(per < 55 and per >= 50):\n",
    "    print(\"Congratulation you got D\")\n",
    "elif(per < 50):\n",
    "    print(\"You are fail\")"
   ]
  },
  {
   "cell_type": "code",
   "execution_count": 17,
   "metadata": {},
   "outputs": [
    {
     "name": "stdout",
     "output_type": "stream",
     "text": [
      "Enter a number to check if it is even or odd45\n",
      "45 is Odd\n"
     ]
    }
   ],
   "source": [
    "#Question#02 Even Or Odd\n",
    "userIn = int(input(\"Enter a number to check if it is even or odd\"))\n",
    "if(userIn % 2 == 0 ):\n",
    "    print(userIn,\"is Even\")\n",
    "else:\n",
    "    print(userIn,\"is Odd\")"
   ]
  },
  {
   "cell_type": "code",
   "execution_count": 25,
   "metadata": {},
   "outputs": [
    {
     "name": "stdout",
     "output_type": "stream",
     "text": [
      "3 Is the length of the list\n"
     ]
    }
   ],
   "source": [
    "#Question#03 Length of the list\n",
    "thislist = [\"apple\", \"banana\", \"cherry\"]\n",
    "print(len(thislist),\"Is the length of the list\")"
   ]
  },
  {
   "cell_type": "code",
   "execution_count": 26,
   "metadata": {},
   "outputs": [
    {
     "name": "stdout",
     "output_type": "stream",
     "text": [
      "437 Is the sum of the given list\n"
     ]
    }
   ],
   "source": [
    "#Assignment#04 sum all numeric on the list\n",
    "numList = [12,25,25,14,78,6,5,8,88,5,5,88,9,1,68,]\n",
    "sumNum= sum(numList)\n",
    "print(sumNum,\"Is the sum of the given list\")"
   ]
  },
  {
   "cell_type": "code",
   "execution_count": 24,
   "metadata": {},
   "outputs": [
    {
     "name": "stdout",
     "output_type": "stream",
     "text": [
      "100 Is the largest number and 1 Is the smallest number\n"
     ]
    }
   ],
   "source": [
    "#Question#5 Largest Number\n",
    "numList = [12,25,25,14,78,6,5,8,88,5,5,88,9,1,68,100]\n",
    "larNum = max(numList)\n",
    "minNum = min(numList)\n",
    "print(larNum,\"Is the largest number\" ,\"and\", minNum,\"Is the smallest number\")"
   ]
  },
  {
   "cell_type": "code",
   "execution_count": 33,
   "metadata": {},
   "outputs": [
    {
     "name": "stdout",
     "output_type": "stream",
     "text": [
      "1\n",
      "1\n",
      "2\n",
      "3\n"
     ]
    }
   ],
   "source": [
    "#Question#06 Element less than 5\n",
    "numList = [1, 1, 2, 3, 5, 8, 13, 21, 34, 55, 89]\n",
    "for numCheck in numList:\n",
    "    if(numCheck < 5):\n",
    "        print(numCheck)"
   ]
  },
  {
   "cell_type": "code",
   "execution_count": null,
   "metadata": {},
   "outputs": [],
   "source": []
  }
 ],
 "metadata": {
  "kernelspec": {
   "display_name": "Python 3",
   "language": "python",
   "name": "python3"
  },
  "language_info": {
   "codemirror_mode": {
    "name": "ipython",
    "version": 3
   },
   "file_extension": ".py",
   "mimetype": "text/x-python",
   "name": "python",
   "nbconvert_exporter": "python",
   "pygments_lexer": "ipython3",
   "version": "3.7.4"
  }
 },
 "nbformat": 4,
 "nbformat_minor": 2
}
