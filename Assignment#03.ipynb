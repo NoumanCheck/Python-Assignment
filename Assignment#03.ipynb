{
 "cells": [
  {
   "cell_type": "code",
   "execution_count": 2,
   "metadata": {},
   "outputs": [],
   "source": [
    "#Assignment#03"
   ]
  },
  {
   "cell_type": "code",
   "execution_count": 7,
   "metadata": {},
   "outputs": [
    {
     "name": "stdout",
     "output_type": "stream",
     "text": [
      "Enter numbers and operator to calculate\n",
      "You Can choose form here\n",
      "    1:Press + for Addition\n",
      "    2:Press - for Addition\n",
      "    3:Press * for Addition\n",
      "    4:Press / for Addition\n",
      "    5:Press ^ for Addition\n",
      "\n",
      "Enter First Value 20\n",
      "Enter Second Value 20\n",
      "Enter Operator +\n",
      "Your Answer Is 40\n"
     ]
    }
   ],
   "source": [
    "#Question#01 Calculator\n",
    "print(\"Enter numbers and operator to calculate\")\n",
    "print('''You Can choose form here\n",
    "    1:Press + for Addition\n",
    "    2:Press - for Addition\n",
    "    3:Press * for Addition\n",
    "    4:Press / for Addition\n",
    "    5:Press ^ for Addition\n",
    "''')\n",
    "numOne = int(input(\"Enter First Value \"))\n",
    "numTwo = int(input(\"Enter Second Value \"))\n",
    "opVal = input(\"Enter Operator \")\n",
    "if(opVal == \"+\"):\n",
    "    finalVal = numOne + numTwo\n",
    "elif(opVal == \"-\"):\n",
    "    finalVal = numOne + numTwo\n",
    "elif(opVal == \"*\"):\n",
    "    finalVal = numOne * numTwo\n",
    "elif(opVal == \"/\"):\n",
    "    finalVal = numOne / numTwo\n",
    "elif(opVal == \"^\"):\n",
    "    finalVal = numOne ** numTwo\n",
    "else:\n",
    "    print(\"Wrong Input opertor\")\n",
    "print(\"Your Answer Is\",finalVal)"
   ]
  },
  {
   "cell_type": "code",
   "execution_count": 22,
   "metadata": {},
   "outputs": [
    {
     "name": "stdout",
     "output_type": "stream",
     "text": [
      "Number Exist\n"
     ]
    }
   ],
   "source": [
    "#Question#02 Numeric Value in the list\n",
    "demoList = [\"Nouman\" , 22 , 1750064 , 32 , \"Single\"]\n",
    "for checkList in demoList:\n",
    "    if(type(checkList) == int or type(checkList) == float):\n",
    "        print(\"Number Exist\")\n",
    "        break"
   ]
  },
  {
   "cell_type": "code",
   "execution_count": 28,
   "metadata": {},
   "outputs": [
    {
     "name": "stdout",
     "output_type": "stream",
     "text": [
      "Key: Name and Value: Nouman\n",
      "Key: Age and Value: 22\n",
      "Key: Status and Value: Single\n",
      "Key: Ep and Value: 1750064\n",
      "Key: Roll and Value: 32\n",
      "Key: Department and Value: UBIT\n"
     ]
    }
   ],
   "source": [
    "#Question#03 Add key to dictionary\n",
    "demoDec = {\n",
    "    \"Name\" : \"Nouman\",\n",
    "    \"Age\" : 22,\n",
    "    \"Status\" : \"Single\",\n",
    "    \"Ep\" : 1750064,\n",
    "    \"Roll\" : 32,\n",
    "}\n",
    "demoDec[\"Department\"] = \"UBIT\"\n",
    "for checkDecKey, checkDecVal in demoDec.items():\n",
    "    print(\"Key:\",checkDecKey ,\"and\",\"Value:\",checkDecVal)"
   ]
  },
  {
   "cell_type": "code",
   "execution_count": 29,
   "metadata": {},
   "outputs": [
    {
     "name": "stdout",
     "output_type": "stream",
     "text": [
      "166\n"
     ]
    }
   ],
   "source": [
    "#Question#04 Sum numeric item in dictionary\n",
    "demoNumDic = {\n",
    "    \"num1\": 100,\n",
    "    \"num2\":20,\n",
    "    \"num3\":46,\n",
    "}\n",
    "sumNum = sum(demoNumDic.values())\n",
    "print(sumNum)"
   ]
  },
  {
   "cell_type": "code",
   "execution_count": null,
   "metadata": {},
   "outputs": [],
   "source": []
  },
  {
   "cell_type": "code",
   "execution_count": null,
   "metadata": {},
   "outputs": [],
   "source": []
  }
 ],
 "metadata": {
  "kernelspec": {
   "display_name": "Python 3",
   "language": "python",
   "name": "python3"
  }
 },
 "nbformat": 4,
 "nbformat_minor": 2
}
